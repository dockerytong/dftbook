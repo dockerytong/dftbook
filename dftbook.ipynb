{
 "cells": [
  {
   "cell_type": "markdown",
   "metadata": {},
   "source": [
    "# 使用 ASE 和 Quantum Espresso 进行 DFT 计算"
   ]
  },
  {
   "cell_type": "markdown",
   "metadata": {},
   "source": [
    "原始版本的 DFT教程 使用原子模拟环境（ASE）和VASP写作，本教程使用ASE和免费的 Quantum Espresso 进行，同时使用 xespresso 作为ASE和Quantum Espresso交互的界面。"
   ]
  },
  {
   "cell_type": "markdown",
   "metadata": {},
   "source": [
    "## 密度泛函理论简介"
   ]
  },
  {
   "cell_type": "markdown",
   "metadata": {},
   "source": [
    "### 背景知识"
   ]
  },
  {
   "cell_type": "markdown",
   "metadata": {},
   "source": [
    "### 交换关联泛函"
   ]
  },
  {
   "cell_type": "markdown",
   "metadata": {},
   "source": [
    "### 基组"
   ]
  },
  {
   "cell_type": "markdown",
   "metadata": {},
   "source": [
    "### 赝势"
   ]
  },
  {
   "cell_type": "markdown",
   "metadata": {},
   "source": [
    "### 费米温度与能带占据"
   ]
  },
  {
   "cell_type": "markdown",
   "metadata": {},
   "source": [
    "### 自旋极化和磁性"
   ]
  },
  {
   "cell_type": "markdown",
   "metadata": {},
   "source": [
    "## 分子体系"
   ]
  },
  {
   "cell_type": "markdown",
   "metadata": {},
   "source": [
    "### 分子的定义与可视化"
   ]
  },
  {
   "cell_type": "markdown",
   "metadata": {},
   "source": [
    "#### 从头创建分子"
   ]
  },
  {
   "cell_type": "markdown",
   "metadata": {},
   "source": [
    "如果没有想要的分子的数据文件，或者没有从中获取它的数据库，我们需要手动定义原子几何形状。 下面是对CO分子的处理方式。 我们必须定义每个原子的类型和位置，以及原子所在的晶胞。"
   ]
  },
  {
   "cell_type": "code",
   "execution_count": 2,
   "metadata": {},
   "outputs": [
    {
     "name": "stdout",
     "output_type": "stream",
     "text": [
      "V = 1000 Angstrom^3\n"
     ]
    }
   ],
   "source": [
    "from ase import Atoms, Atom\n",
    "from ase.io import write\n",
    "\n",
    "# 创建一个Atoms类的实例\n",
    "atoms = Atoms([Atom('C', [0., 0., 0.]),\n",
    "               Atom('O', [1.1, 0., 0.])],\n",
    "              cell=(10, 10, 10))\n",
    "\n",
    "print('V = {0:1.0f} Angstrom^3'.format(atoms.get_volume())) # 输出所创建晶胞的体积\n",
    "\n",
    "write('images/simple-cubic-cell.png', atoms, show_unit_cell=2) # 在images/DFT_book文件夹中创建名为simple-cubic-cell.png的图像文件"
   ]
  },
  {
   "cell_type": "markdown",
   "metadata": {},
   "source": [
    "![一氧化碳分子](images/simple-cubic-cell.png)"
   ]
  }
 ],
 "metadata": {
  "interpreter": {
   "hash": "4a67d6b60467a7131c6048eb57da23f4b3ebab0b208e22c19493d8cba3f408e0"
  },
  "kernelspec": {
   "display_name": "Python 3.9.0 64-bit",
   "language": "python",
   "name": "python3"
  },
  "language_info": {
   "codemirror_mode": {
    "name": "ipython",
    "version": 3
   },
   "file_extension": ".py",
   "mimetype": "text/x-python",
   "name": "python",
   "nbconvert_exporter": "python",
   "pygments_lexer": "ipython3",
   "version": "3.9.0"
  },
  "orig_nbformat": 4
 },
 "nbformat": 4,
 "nbformat_minor": 2
}
