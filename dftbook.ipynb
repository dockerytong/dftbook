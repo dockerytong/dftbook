{
 "cells": [
  {
   "cell_type": "markdown",
   "metadata": {},
   "source": [
    "# 使用 ASE 和 Quantum Espresso 进行 DFT 计算"
   ]
  },
  {
   "cell_type": "markdown",
   "metadata": {},
   "source": [
    "原始版本的 DFT教程 使用原子模拟环境（ASE）和VASP写作，本教程使用ASE和免费的 Quantum Espresso 进行，同时使用 xespresso 作为ASE和Quantum Espresso交互的界面。"
   ]
  },
  {
   "cell_type": "markdown",
   "metadata": {},
   "source": [
    "## 密度泛函理论简介"
   ]
  },
  {
   "cell_type": "markdown",
   "metadata": {},
   "source": [
    "### 背景知识"
   ]
  },
  {
   "cell_type": "markdown",
   "metadata": {},
   "source": [
    "### 交换关联泛函"
   ]
  },
  {
   "cell_type": "markdown",
   "metadata": {},
   "source": [
    "### 基组"
   ]
  },
  {
   "cell_type": "markdown",
   "metadata": {},
   "source": [
    "### 赝势"
   ]
  },
  {
   "cell_type": "markdown",
   "metadata": {},
   "source": [
    "### 费米温度与能带占据"
   ]
  },
  {
   "cell_type": "markdown",
   "metadata": {},
   "source": [
    "### 自旋极化和磁性"
   ]
  },
  {
   "cell_type": "markdown",
   "metadata": {},
   "source": [
    "## 分子体系"
   ]
  },
  {
   "cell_type": "markdown",
   "metadata": {},
   "source": [
    "### 分子的定义与可视化"
   ]
  },
  {
   "cell_type": "markdown",
   "metadata": {},
   "source": [
    "#### 从头创建分子"
   ]
  },
  {
   "cell_type": "markdown",
   "metadata": {},
   "source": [
    "如果没有想要的分子的数据文件，或者没有从中获取它的数据库，我们需要手动定义原子几何形状。 下面是对CO分子的处理方式。 我们必须定义每个原子的类型和位置，以及原子所在的晶胞。"
   ]
  },
  {
   "cell_type": "code",
   "execution_count": 2,
   "metadata": {},
   "outputs": [
    {
     "name": "stdout",
     "output_type": "stream",
     "text": [
      "V = 1000 Angstrom^3\n"
     ]
    }
   ],
   "source": [
    "from ase import Atoms, Atom\n",
    "from ase.io import write\n",
    "\n",
    "# 创建一个Atoms类的实例\n",
    "atoms = Atoms([Atom('C', [0., 0., 0.]),\n",
    "               Atom('O', [1.1, 0., 0.])],\n",
    "              cell=(10, 10, 10))\n",
    "\n",
    "print('V = {0:1.0f} Angstrom^3'.format(atoms.get_volume())) # 输出所创建晶胞的体积\n",
    "\n",
    "write('images/simple-cubic-cell.png', atoms, show_unit_cell=2) # 在images/DFT_book文件夹中创建名为simple-cubic-cell.png的图像文件"
   ]
  },
  {
   "cell_type": "markdown",
   "metadata": {},
   "source": [
    "![co_molecule](images/simple-cubic-cell.png '一氧化碳分子')"
   ]
  },
  {
   "cell_type": "markdown",
   "metadata": {},
   "source": [
    "简单立方晶胞有两个不方便的特点：\n",
    "\n",
    "1. 由于CO分子在拐角处，其电子密度分布在盒子的8个角上，不便于后期可视化。\n",
    "2. 由于立方体的几何形状，您需要相当大的立方体以确保分子的电子密度与其图像的电子密度不重叠。电子-电子相互作用是排斥的，重叠使能量显着增加。在这里，由于距离 10 Å 的周期性边界条件，CO 分子有 6 个图像。晶胞的体积是 1000 Å3.\n",
    "\n",
    "通过将原子集中在晶胞中，第一个问题很容易解决。第二个问题可以通过使用面心立方晶格来解决，它是最密堆积的晶格。"
   ]
  },
  {
   "cell_type": "code",
   "execution_count": 3,
   "metadata": {},
   "outputs": [
    {
     "name": "stdout",
     "output_type": "stream",
     "text": [
      "V = 716 Ang^3\n"
     ]
    }
   ],
   "source": [
    "from ase import Atoms, Atom\n",
    "from ase.io import write\n",
    "\n",
    "b = 7.1\n",
    "atoms = Atoms([Atom('C', [0., 0., 0.]),\n",
    "               Atom('O', [1.1, 0., 0.])],\n",
    "              cell=[[b, b, 0.],\n",
    "                    [b, 0., b],\n",
    "                    [0., b, b]])\n",
    "\n",
    "print('V = {0:1.0f} Ang^3'.format(atoms.get_volume()))\n",
    "\n",
    "atoms.center()  # translate atoms to center of unit cell\n",
    "write('images/fcc-cell.png', atoms, show_unit_cell=2)"
   ]
  },
  {
   "cell_type": "markdown",
   "metadata": {},
   "source": [
    "![co_in_fcc_cell](images/fcc-cell.png '放置在fcc晶胞中心的一氧化碳分子')"
   ]
  },
  {
   "cell_type": "markdown",
   "metadata": {},
   "source": [
    "#### 读取结构文件"
   ]
  },
  {
   "cell_type": "markdown",
   "metadata": {},
   "source": [
    "[ase.io.read](https://wiki.fysik.dtu.dk/ase/ase/io/io.html#ase.io.read)支持多种不同的文件格式："
   ]
  },
  {
   "cell_type": "markdown",
   "metadata": {},
   "source": [
    " Known formats:\n",
    "\n",
    "    =========================  ===========\n",
    "    format                     short name\n",
    "    =========================  ===========\n",
    "    GPAW restart-file          gpw\n",
    "    Dacapo netCDF output file  dacapo\n",
    "    Old ASE netCDF trajectory  nc\n",
    "    Virtual Nano Lab file      vnl\n",
    "    ASE pickle trajectory      traj\n",
    "    ASE bundle trajectory      bundle\n",
    "    GPAW text output           gpaw-text\n",
    "    CUBE file                  cube\n",
    "    XCrySDen Structure File    xsf\n",
    "    Dacapo text output         dacapo-text\n",
    "    XYZ-file                   xyz\n",
    "    VASP POSCAR/CONTCAR file   vasp\n",
    "    VASP OUTCAR file           vasp_out\n",
    "    SIESTA STRUCT file         struct_out\n",
    "    ABINIT input file          abinit\n",
    "    V_Sim ascii file           v_sim\n",
    "    Protein Data Bank          pdb\n",
    "    CIF-file                   cif\n",
    "    FHI-aims geometry file     aims\n",
    "    FHI-aims output file       aims_out\n",
    "    VTK XML Image Data         vti\n",
    "    VTK XML Structured Grid    vts\n",
    "    VTK XML Unstructured Grid  vtu\n",
    "    TURBOMOLE coord file       tmol\n",
    "    TURBOMOLE gradient file    tmol-gradient\n",
    "    exciting input             exi\n",
    "    AtomEye configuration      cfg\n",
    "    WIEN2k structure file      struct\n",
    "    DftbPlus input file        dftb\n",
    "    CASTEP geom file           cell\n",
    "    CASTEP output file         castep\n",
    "    CASTEP trajectory file     geom\n",
    "    ETSF format                etsf.nc\n",
    "    DFTBPlus GEN format        gen\n",
    "    CMR db/cmr-file            db\n",
    "    CMR db/cmr-file            cmr\n",
    "    LAMMPS dump file           lammps\n",
    "    Gromacs coordinates        gro\n",
    "    =========================  ==========="
   ]
  },
  {
   "cell_type": "markdown",
   "metadata": {},
   "source": [
    "#### 预先定义的分子结构"
   ]
  },
  {
   "cell_type": "markdown",
   "metadata": {},
   "source": [
    "[ase](https://wiki.fysik.dtu.dk/ase/index.html) 在 [ase.data.molecules](https://wiki.fysik.dtu.dk/ase/ase/data.html#molecular-data) 数据库中定义了许多分子几何结构 。例如，该数据库包括 G2/97 数据库curtiss:1063 中的分子。该数据库包含一组广泛的原子和分子，其中存在良好的实验数据，使它们可用于基准研究。\n",
    "\n",
    "数据库中原子的坐标是使用 MP2(full)/6-31G(d) 优化的几何结构。以下为 g2 数据库中所有的分子。"
   ]
  },
  {
   "cell_type": "code",
   "execution_count": 13,
   "metadata": {},
   "outputs": [
    {
     "name": "stdout",
     "output_type": "stream",
     "text": [
      "Be                       BeH                      C                        \n",
      "C2H2                     C2H4                     C2H6                     \n",
      "CH                       CH2_s1A1d                CH2_s3B1d                \n",
      "CH3                      CH3Cl                    CH3OH                    \n",
      "CH3SH                    CH4                      CN                       \n",
      "CO                       CO2                      CS                       \n",
      "Cl                       Cl2                      ClF                      \n",
      "ClO                      F                        F2                       \n",
      "H                        H2CO                     H2O                      \n",
      "H2O2                     HCN                      HCO                      \n",
      "HCl                      HF                       HOCl                     \n",
      "Li                       Li2                      LiF                      \n",
      "LiH                      N                        N2                       \n",
      "N2H4                     NH                       NH2                      \n",
      "NH3                      NO                       Na                       \n",
      "Na2                      NaCl                     O                        \n",
      "O2                       OH                       P                        \n",
      "P2                       PH2                      PH3                      \n",
      "S                        S2                       SH2                      \n",
      "SO                       SO2                      Si                       \n",
      "Si2                      Si2H6                    SiH2_s1A1d               \n",
      "SiH2_s3B1d               SiH3                     SiH4                     \n",
      "SiO                      2-butyne                 Al                       \n",
      "AlCl3                    AlF3                     B                        \n",
      "BCl3                     BF3                      C2Cl4                    \n",
      "C2F4                     C2H3                     C2H5                     \n",
      "C2H6CHOH                 C2H6NH                   C2H6SO                   \n",
      "C3H4_C2v                 C3H4_C3v                 C3H4_D2d                 \n",
      "C3H6_Cs                  C3H6_D3h                 C3H7                     \n",
      "C3H7Cl                   C3H8                     C3H9C                    \n",
      "C3H9N                    C4H4NH                   C4H4O                    \n",
      "C4H4S                    C5H5N                    C5H8                     \n",
      "C6H6                     CCH                      CCl4                     \n",
      "CF3CN                    CF4                      CH2NHCH2                 \n",
      "CH2OCH2                  CH2SCH2                  CH3CH2Cl                 \n",
      "CH3CH2NH2                CH3CH2O                  CH3CH2OCH3               \n",
      "CH3CH2OH                 CH3CH2SH                 CH3CHO                   \n",
      "CH3CN                    CH3CO                    CH3COCH3                 \n",
      "CH3COCl                  CH3COF                   CH3CONH2                 \n",
      "CH3COOH                  CH3NO2                   CH3O                     \n",
      "CH3OCH3                  CH3ONO                   CH3S                     \n",
      "CH3SCH3                  CH3SiH3                  COF2                     \n",
      "CS2                      ClF3                     ClNO                     \n",
      "F2O                      H2                       H2CCHCN                  \n",
      "H2CCHCl                  H2CCHF                   H2CCO                    \n",
      "H2CCl2                   H2CF2                    H2COH                    \n",
      "H3CNH2                   HCCl3                    HCF3                     \n",
      "HCOOCH3                  HCOOH                    N2O                      \n",
      "NCCN                     NF3                      NO2                      \n",
      "O3                       OCHCHO                   OCS                      \n",
      "PF3                      SH                       SiCl4                    \n",
      "SiF4                     bicyclobutane            butadiene                \n",
      "cyclobutane              cyclobutene              isobutane                \n",
      "isobutene                methylenecyclopropane    trans-butane             \n"
     ]
    }
   ],
   "source": [
    "from ase.data import g2\n",
    "keys = g2.data.keys()\n",
    "# print in 3 columns\n",
    "for i in range(int(len(keys) / 3)):\n",
    "    print('{0:25s}{1:25s}{2:25s}'.format(*tuple(list(keys)[i * 3: i * 3 + 3])))"
   ]
  },
  {
   "cell_type": "markdown",
   "metadata": {},
   "source": [
    "#### 组合 Atoms 对象"
   ]
  },
  {
   "cell_type": "markdown",
   "metadata": {},
   "source": [
    "组合两个Atoms对象通常很有用，例如用于计算反应障碍或其他类型的交互。在 ase 中，我们可以简单地将两个Atoms对象相加来实现分子合并。这是在同一晶胞中获取氨和氧分子的示例。我们Atoms使用ase.Atoms.translate函数使两个分子保持3 Å的距离。"
   ]
  },
  {
   "cell_type": "code",
   "execution_count": 15,
   "metadata": {},
   "outputs": [],
   "source": [
    "from ase.build import molecule\n",
    "from ase.io import write\n",
    "\n",
    "atoms1 = molecule('NH3')\n",
    "\n",
    "atoms2 = molecule('O2')\n",
    "atoms2.translate([3, 0, 0])\n",
    "\n",
    "bothatoms = atoms1 + atoms2\n",
    "bothatoms.center(5)\n",
    "\n",
    "write('images/bothatoms.png', bothatoms, show_unit_cell=2, rotation='90x')"
   ]
  },
  {
   "cell_type": "markdown",
   "metadata": {},
   "source": [
    "![bothatoms](images/bothatoms.png '组合两个分子')"
   ]
  },
  {
   "cell_type": "markdown",
   "metadata": {},
   "source": [
    "### 简单性质的计算"
   ]
  },
  {
   "cell_type": "markdown",
   "metadata": {},
   "source": [
    "简单性质不需要 DFT 计算。它们通常只是原子类型和几何形状的函数。"
   ]
  },
  {
   "cell_type": "markdown",
   "metadata": {},
   "source": [
    "#### 获取笛卡尔坐标"
   ]
  },
  {
   "cell_type": "markdown",
   "metadata": {},
   "source": [
    "如果你想要 ( x , y, z) 形式的原子坐标，使用ase.Atoms.get_positions。如果您对分数坐标感兴趣，请使用ase.Atoms.get_scaled_positions。"
   ]
  },
  {
   "cell_type": "code",
   "execution_count": 16,
   "metadata": {},
   "outputs": [
    {
     "name": "stdout",
     "output_type": "stream",
     "text": [
      " #  sym   p_x     p_y     p_z\n",
      "------------------------------\n",
      "  0 C      0.00    1.40    0.00\n",
      "  1 C      1.21    0.70    0.00\n",
      "  2 C      1.21   -0.70    0.00\n",
      "  3 C      0.00   -1.40    0.00\n",
      "  4 C     -1.21   -0.70    0.00\n",
      "  5 C     -1.21    0.70    0.00\n",
      "  6 H      0.00    2.48    0.00\n",
      "  7 H      2.15    1.24    0.00\n",
      "  8 H      2.15   -1.24    0.00\n",
      "  9 H      0.00   -2.48    0.00\n",
      " 10 H     -2.15   -1.24    0.00\n",
      " 11 H     -2.15    1.24    0.00\n",
      "\n",
      "  # sym    at#    p_x     p_y     p_z\n",
      "-------------------------------------\n",
      "  0  C       6    0.00    1.40    0.00\n",
      "  1  C       6    1.21    0.70    0.00\n",
      "  2  C       6    1.21   -0.70    0.00\n",
      "  3  C       6    0.00   -1.40    0.00\n",
      "  4  C       6   -1.21   -0.70    0.00\n",
      "  5  C       6   -1.21    0.70    0.00\n",
      "  6  H       1    0.00    2.48    0.00\n",
      "  7  H       1    2.15    1.24    0.00\n",
      "  8  H       1    2.15   -1.24    0.00\n",
      "  9  H       1    0.00   -2.48    0.00\n",
      " 10  H       1   -2.15   -1.24    0.00\n",
      " 11  H       1   -2.15    1.24    0.00\n"
     ]
    }
   ],
   "source": [
    "from ase.build import molecule\n",
    "\n",
    "atoms = molecule('C6H6')  # benzene\n",
    "\n",
    "# access properties on each atom\n",
    "print(' #  sym   p_x     p_y     p_z')\n",
    "print('------------------------------')\n",
    "for i, atom in enumerate(atoms):\n",
    "   print('{0:3d}{1:^4s}{2:-8.2f}{3:-8.2f}{4:-8.2f}'.format(i,\n",
    "                                                           atom.symbol,\n",
    "                                                           atom.x,\n",
    "                                                           atom.y,\n",
    "                                                           atom.z))\n",
    "\n",
    "# get all properties in arrays\n",
    "sym = atoms.get_chemical_symbols()\n",
    "pos = atoms.get_positions()\n",
    "num = atoms.get_atomic_numbers()\n",
    "\n",
    "atom_indices = range(len(atoms))\n",
    "\n",
    "print()\n",
    "print('  # sym    at#    p_x     p_y     p_z')\n",
    "print('-------------------------------------')\n",
    "for i, s, n, p in zip(atom_indices, sym, num, pos):\n",
    "    px, py, pz = p\n",
    "    print('{0:3d}{1:>3s}{2:8d}{3:-8.2f}{4:-8.2f}{5:-8.2f}'.format(i, s, n,\n",
    "                                                                  px, py, pz))"
   ]
  },
  {
   "cell_type": "markdown",
   "metadata": {},
   "source": [
    "#### 分子式和分子量"
   ]
  },
  {
   "cell_type": "markdown",
   "metadata": {},
   "source": [
    "我们可以使用此配方快速计算分子的分子量。我们使用ase.Atoms.get_masses获取Atoms对象中每个原子的原子质量数组，然后将它们相加。"
   ]
  },
  {
   "cell_type": "code",
   "execution_count": 18,
   "metadata": {},
   "outputs": [
    {
     "name": "stdout",
     "output_type": "stream",
     "text": [
      "The molecular weight of C6H6 is 78.11 gm/mol\n"
     ]
    }
   ],
   "source": [
    "from ase.build import molecule\n",
    "\n",
    "atoms = molecule('C6H6')\n",
    "masses = atoms.get_masses()\n",
    "\n",
    "molecular_weight = masses.sum()\n",
    "molecular_formula = atoms.get_chemical_formula(mode='reduce')\n",
    "\n",
    "# note use of two lines to keep length of line reasonable\n",
    "s = 'The molecular weight of {0} is {1:1.2f} gm/mol'\n",
    "print(s.format(molecular_formula, molecular_weight))"
   ]
  },
  {
   "cell_type": "markdown",
   "metadata": {},
   "source": [
    "注意 ase.Atoms.get_chemical_formula 的参数 `reduce=True` 收集所有的符号提供了分子式。"
   ]
  }
 ],
 "metadata": {
  "interpreter": {
   "hash": "4a67d6b60467a7131c6048eb57da23f4b3ebab0b208e22c19493d8cba3f408e0"
  },
  "kernelspec": {
   "display_name": "Python 3.9.0 64-bit",
   "language": "python",
   "name": "python3"
  },
  "language_info": {
   "codemirror_mode": {
    "name": "ipython",
    "version": 3
   },
   "file_extension": ".py",
   "mimetype": "text/x-python",
   "name": "python",
   "nbconvert_exporter": "python",
   "pygments_lexer": "ipython3",
   "version": "3.9.0"
  },
  "orig_nbformat": 4
 },
 "nbformat": 4,
 "nbformat_minor": 2
}
